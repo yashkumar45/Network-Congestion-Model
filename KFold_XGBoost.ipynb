{
 "cells": [
  {
   "cell_type": "code",
   "execution_count": 29,
   "metadata": {},
   "outputs": [],
   "source": [
    "import numpy as np\n",
    "import pandas as pd\n",
    "import matplotlib.pyplot as plt\n",
    "import sklearn\n",
    "import xgboost as xgb\n",
    "from sklearn.model_selection import KFold\n",
    "from sklearn.model_selection import train_test_split"
   ]
  },
  {
   "cell_type": "code",
   "execution_count": 30,
   "metadata": {},
   "outputs": [],
   "source": [
    "df = pd.read_csv(\"modified_data.csv\")\n",
    "ID = df[\"cell_name\"]\n",
    "y = df[\"Congestion_Type\"]\n"
   ]
  },
  {
   "cell_type": "code",
   "execution_count": 31,
   "metadata": {},
   "outputs": [
    {
     "data": {
      "text/plain": [
       "Index(['log( web_browsing_total_bytes )', 'log( video_total_bytes )',\n",
       "       'log( social_ntwrking_bytes )', 'log( cloud_computing_total_bytes )',\n",
       "       'log( web_security_total_bytes )', 'log( gaming_total_bytes )',\n",
       "       'log( health_total_bytes )', 'log( communication_total_bytes )',\n",
       "       'log( file_sharing_total_bytes )', 'log( remote_access_total_bytes )',\n",
       "       'log( photo_sharing_total_bytes )', 'log( software_dwnld_total_bytes )',\n",
       "       'log( marketplace_total_bytes )', 'log( storage_services_total_bytes )',\n",
       "       'log( audio_total_bytes )', 'log( location_services_total_bytes )',\n",
       "       'log( presence_total_bytes )', 'log( advertisement_total_bytes )',\n",
       "       'log( system_total_bytes )', 'log( voip_total_bytes )',\n",
       "       'log( speedtest_total_bytes )', 'log( email_total_bytes )',\n",
       "       'log( weather_total_bytes )', 'log( media_total_bytes )',\n",
       "       'log( mms_total_bytes )', 'log( others_total_bytes )',\n",
       "       'log( subscriber_count )'],\n",
       "      dtype='object')"
      ]
     },
     "execution_count": 31,
     "metadata": {},
     "output_type": "execute_result"
    }
   ],
   "source": [
    "train = df.drop(['cell_name', 'Congestion_Type'], axis=1)\n",
    "# train['web_browsing_total_bytes'] += train['video_total_bytes']+ train['social_ntwrking_bytes']+ train['cloud_computing_total_bytes']+train['web_security_total_bytes']+ train['gaming_total_bytes']+ train['health_total_bytes']+ train['communication_total_bytes']+ train['file_sharing_total_bytes']+ train['remote_access_total_bytes']+ train['photo_sharing_total_bytes']+ train['software_dwnld_total_bytes']+ train['marketplace_total_bytes']+ train['storage_services_total_bytes']+ train['audio_total_bytes']+ train['location_services_total_bytes']+ train['presence_total_bytes']+ train['advertisement_total_bytes']+ train['system_total_bytes']+ train['voip_total_bytes']+ train['speedtest_total_bytes']+ train['email_total_bytes']+ train['weather_total_bytes']+ train['media_total_bytes']+ train['mms_total_bytes']+ train['others_total_bytes']\n",
    "train = train.drop(['date','time','day-time','subscriber_count','web_browsing_total_bytes','video_total_bytes', 'social_ntwrking_bytes', 'cloud_computing_total_bytes', 'web_security_total_bytes',\n",
    " 'gaming_total_bytes', 'health_total_bytes', 'communication_total_bytes', 'file_sharing_total_bytes', 'remote_access_total_bytes',\n",
    " 'photo_sharing_total_bytes', 'software_dwnld_total_bytes', 'marketplace_total_bytes', 'storage_services_total_bytes',\n",
    " 'audio_total_bytes', 'location_services_total_bytes', 'presence_total_bytes', 'advertisement_total_bytes', 'system_total_bytes',\n",
    " 'voip_total_bytes', 'speedtest_total_bytes', 'email_total_bytes', 'weather_total_bytes', 'media_total_bytes',\n",
    " 'mms_total_bytes', 'others_total_bytes'], axis=1)\n",
    "# train['par_min']+= train['par_day']*24*60 + train['par_hour']*60\n",
    "train = train.drop(['4G_rat','beam_direction', 'cell_range', 'log(total_data)', 'LOG(total_data/subs_count)', 'weekend','par_year', 'par_month', 'par_day', 'par_hour', 'par_min', 'ran_vendor', 'total_data', 'tilt',\n",
    "                   'ERICSSON', 'HUAWEI', 'NOKIA', 'evening', 'night', 'work', 'total_data/subs_count', 'MAJOR/MINOR'], axis=1)\n",
    "train.columns"
   ]
  },
  {
   "cell_type": "code",
   "execution_count": 32,
   "metadata": {},
   "outputs": [],
   "source": [
    "train = np.sqrt(train)"
   ]
  },
  {
   "cell_type": "code",
   "execution_count": 33,
   "metadata": {},
   "outputs": [],
   "source": [
    "from sklearn import preprocessing\n",
    "le = preprocessing.LabelEncoder()\n",
    "y = le.fit_transform(y)\n",
    "# train[\"ran_vendor\"] = le.fit_transform(train[\"ran_vendor\"])"
   ]
  },
  {
   "cell_type": "code",
   "execution_count": 34,
   "metadata": {},
   "outputs": [],
   "source": [
    "x_train = train[:60000]\n",
    "y_train = y[:60000]\n",
    "x_test = train[60000:]\n",
    "y_test = y[60000:]"
   ]
  },
  {
   "cell_type": "code",
   "execution_count": 40,
   "metadata": {},
   "outputs": [],
   "source": [
    "K = 10\n",
    "kf = KFold(n_splits = K, random_state = 42, shuffle = True)\n",
    "\n"
   ]
  },
  {
   "cell_type": "code",
   "execution_count": 41,
   "metadata": {},
   "outputs": [],
   "source": [
    "for train_index, test_index in kf.split(x_train):\n",
    "    train_X, valid_X = x_train.iloc[train_index], x_train.iloc[test_index]\n",
    "    train_y, valid_y = y[train_index], y[test_index]"
   ]
  },
  {
   "cell_type": "code",
   "execution_count": 42,
   "metadata": {},
   "outputs": [],
   "source": [
    "xgb_params = {\n",
    "              'learning_rate': 0.151,\n",
    "              'max_depth':1,\n",
    "              'n_estimators':3000,\n",
    "              'reg_lambda':1.5,\n",
    "              'min_child_weight': 8, \n",
    "              'subsample': 0.7, \n",
    "              'seed': 42\n",
    "             }"
   ]
  },
  {
   "cell_type": "code",
   "execution_count": 43,
   "metadata": {},
   "outputs": [],
   "source": [
    "xgb_preds = []"
   ]
  },
  {
   "cell_type": "code",
   "execution_count": 44,
   "metadata": {},
   "outputs": [
    {
     "name": "stdout",
     "output_type": "stream",
     "text": [
      "[0]\ttrain-rmse:1.40169\tvalid-rmse:1.40552\n",
      "Multiple eval metrics have been passed: 'valid-rmse' will be used for early stopping.\n",
      "\n",
      "Will train until valid-rmse hasn't improved in 100 rounds.\n",
      "[50]\ttrain-rmse:1.0651\tvalid-rmse:1.06967\n",
      "[100]\ttrain-rmse:1.03989\tvalid-rmse:1.04607\n",
      "Stopping. Best iteration:\n",
      "[0]\ttrain-rmse:1.40169\tvalid-rmse:1.40552\n",
      "\n"
     ]
    }
   ],
   "source": [
    "d_train = xgb.DMatrix(train_X, train_y)\n",
    "d_valid = xgb.DMatrix(valid_X, valid_y)\n",
    "d_test = xgb.DMatrix(x_test)\n",
    "    \n",
    "watchlist = [(d_train, 'train'), (d_valid, 'valid')]\n",
    "model = xgb.train(xgb_params, d_train, 5000,  watchlist, maximize=True, verbose_eval=50, early_stopping_rounds=100)\n",
    "                        \n",
    "xgb_pred = model.predict(d_test)\n",
    "xgb_preds.append(list(xgb_pred))"
   ]
  },
  {
   "cell_type": "code",
   "execution_count": 48,
   "metadata": {},
   "outputs": [],
   "source": [
    "# xgb_preds"
   ]
  },
  {
   "cell_type": "code",
   "execution_count": null,
   "metadata": {},
   "outputs": [],
   "source": []
  },
  {
   "cell_type": "code",
   "execution_count": null,
   "metadata": {},
   "outputs": [],
   "source": []
  }
 ],
 "metadata": {
  "kernelspec": {
   "display_name": "Python 3",
   "language": "python",
   "name": "python3"
  },
  "language_info": {
   "codemirror_mode": {
    "name": "ipython",
    "version": 3
   },
   "file_extension": ".py",
   "mimetype": "text/x-python",
   "name": "python",
   "nbconvert_exporter": "python",
   "pygments_lexer": "ipython3",
   "version": "3.6.5"
  }
 },
 "nbformat": 4,
 "nbformat_minor": 2
}
