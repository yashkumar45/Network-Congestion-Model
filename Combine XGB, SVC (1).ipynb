{
 "cells": [
  {
   "cell_type": "markdown",
   "metadata": {},
   "source": [
    "# This Notebook takes the outputs of processing.py as input"
   ]
  },
  {
   "cell_type": "markdown",
   "metadata": {},
   "source": [
    "## Importing Packages"
   ]
  },
  {
   "cell_type": "code",
   "execution_count": 2,
   "metadata": {},
   "outputs": [],
   "source": [
    "import pandas as pd\n",
    "import numpy as np\n",
    "from sklearn import svm\n",
    "from sklearn.model_selection import train_test_split\n",
    "from sklearn import preprocessing\n",
    "from sklearn.metrics import confusion_matrix\n",
    "from sklearn.model_selection import learning_curve\n",
    "from sklearn.model_selection import ShuffleSplit\n",
    "import xgboost as xgb\n",
    "from sklearn.preprocessing import OneHotEncoder"
   ]
  },
  {
   "cell_type": "markdown",
   "metadata": {},
   "source": [
    "## Importing Dataset"
   ]
  },
  {
   "cell_type": "code",
   "execution_count": 77,
   "metadata": {},
   "outputs": [],
   "source": [
    "df_train = pd.read_csv(\"modified_data.csv\")\n",
    "df_test = pd.read_csv(\"modified_data_test.csv\")"
   ]
  },
  {
   "cell_type": "markdown",
   "metadata": {},
   "source": [
    "## Feature Selection for SVC"
   ]
  },
  {
   "cell_type": "code",
   "execution_count": 78,
   "metadata": {},
   "outputs": [],
   "source": [
    "X = df_train.loc[:,['log(total_data)', 'log( web_browsing_total_bytes )',\n",
    "       'log( video_total_bytes )', 'log( social_ntwrking_bytes )',\n",
    "       'log( cloud_computing_total_bytes )', 'log( web_security_total_bytes )',\n",
    "       'log( gaming_total_bytes )', 'log( health_total_bytes )',\n",
    "       'log( communication_total_bytes )', 'log( file_sharing_total_bytes )',\n",
    "       'log( remote_access_total_bytes )', 'log( photo_sharing_total_bytes )',\n",
    "       'log( software_dwnld_total_bytes )', 'log( marketplace_total_bytes )',\n",
    "       'log( storage_services_total_bytes )', 'log( audio_total_bytes )',\n",
    "       'log( location_services_total_bytes )', 'log( presence_total_bytes )',\n",
    "       'log( advertisement_total_bytes )', 'log( system_total_bytes )',\n",
    "       'log( voip_total_bytes )', 'log( speedtest_total_bytes )',\n",
    "       'log( email_total_bytes )', 'log( weather_total_bytes )',\n",
    "       'log( media_total_bytes )', 'log( mms_total_bytes )',\n",
    "       'log( others_total_bytes )', 'log( subscriber_count )','web_browsing_total_bytes',\n",
    "         'video_total_bytes','social_ntwrking_bytes','cloud_computing_total_bytes',\n",
    "         'web_security_total_bytes','gaming_total_bytes','health_total_bytes',\n",
    "         'communication_total_bytes','file_sharing_total_bytes','remote_access_total_bytes',\n",
    "         'photo_sharing_total_bytes','software_dwnld_total_bytes','marketplace_total_bytes',\n",
    "         'storage_services_total_bytes','audio_total_bytes','location_services_total_bytes',\n",
    "         'presence_total_bytes','advertisement_total_bytes','system_total_bytes','voip_total_bytes',\n",
    "         'speedtest_total_bytes','email_total_bytes','weather_total_bytes','media_total_bytes',\n",
    "         'mms_total_bytes','others_total_bytes','subscriber_count']]\n",
    "Y = df_train.loc[:, 'Congestion_Type']\n",
    "\n",
    "X_test = df_test.loc[:,['log(total_data)', 'log( web_browsing_total_bytes )',\n",
    "       'log( video_total_bytes )', 'log( social_ntwrking_bytes )',\n",
    "       'log( cloud_computing_total_bytes )', 'log( web_security_total_bytes )',\n",
    "       'log( gaming_total_bytes )', 'log( health_total_bytes )',\n",
    "       'log( communication_total_bytes )', 'log( file_sharing_total_bytes )',\n",
    "       'log( remote_access_total_bytes )', 'log( photo_sharing_total_bytes )',\n",
    "       'log( software_dwnld_total_bytes )', 'log( marketplace_total_bytes )',\n",
    "       'log( storage_services_total_bytes )', 'log( audio_total_bytes )',\n",
    "       'log( location_services_total_bytes )', 'log( presence_total_bytes )',\n",
    "       'log( advertisement_total_bytes )', 'log( system_total_bytes )',\n",
    "       'log( voip_total_bytes )', 'log( speedtest_total_bytes )',\n",
    "       'log( email_total_bytes )', 'log( weather_total_bytes )',\n",
    "       'log( media_total_bytes )', 'log( mms_total_bytes )',\n",
    "       'log( others_total_bytes )', 'log( subscriber_count )','web_browsing_total_bytes',\n",
    "         'video_total_bytes','social_ntwrking_bytes','cloud_computing_total_bytes',\n",
    "         'web_security_total_bytes','gaming_total_bytes','health_total_bytes',\n",
    "         'communication_total_bytes','file_sharing_total_bytes','remote_access_total_bytes',\n",
    "         'photo_sharing_total_bytes','software_dwnld_total_bytes','marketplace_total_bytes',\n",
    "         'storage_services_total_bytes','audio_total_bytes','location_services_total_bytes',\n",
    "         'presence_total_bytes','advertisement_total_bytes','system_total_bytes','voip_total_bytes',\n",
    "         'speedtest_total_bytes','email_total_bytes','weather_total_bytes','media_total_bytes',\n",
    "         'mms_total_bytes','others_total_bytes','subscriber_count']]"
   ]
  },
  {
   "cell_type": "markdown",
   "metadata": {},
   "source": [
    "## Preprocessing on SVC"
   ]
  },
  {
   "cell_type": "code",
   "execution_count": 79,
   "metadata": {},
   "outputs": [],
   "source": [
    "from sklearn.preprocessing import StandardScaler\n",
    "scaler = StandardScaler()\n",
    "X = pd.DataFrame(scaler.fit_transform(X))\n",
    "X_test = pd.DataFrame(scaler.transform(X_test))"
   ]
  },
  {
   "cell_type": "markdown",
   "metadata": {},
   "source": [
    "## Training SVC Model"
   ]
  },
  {
   "cell_type": "code",
   "execution_count": 1,
   "metadata": {},
   "outputs": [
    {
     "ename": "NameError",
     "evalue": "name 'svm' is not defined",
     "output_type": "error",
     "traceback": [
      "\u001b[1;31m---------------------------------------------------------------------------\u001b[0m",
      "\u001b[1;31mNameError\u001b[0m                                 Traceback (most recent call last)",
      "\u001b[1;32m<ipython-input-1-cde590086920>\u001b[0m in \u001b[0;36m<module>\u001b[1;34m()\u001b[0m\n\u001b[1;32m----> 1\u001b[1;33m \u001b[0mmodel_svc\u001b[0m \u001b[1;33m=\u001b[0m \u001b[0msvm\u001b[0m\u001b[1;33m.\u001b[0m\u001b[0mSVC\u001b[0m\u001b[1;33m(\u001b[0m\u001b[0mkernel\u001b[0m\u001b[1;33m=\u001b[0m\u001b[1;34m'rbf'\u001b[0m\u001b[1;33m,\u001b[0m\u001b[0mC\u001b[0m\u001b[1;33m=\u001b[0m\u001b[1;36m1\u001b[0m\u001b[1;33m,\u001b[0m\u001b[0mgamma\u001b[0m\u001b[1;33m=\u001b[0m\u001b[1;36m.004\u001b[0m\u001b[1;33m,\u001b[0m\u001b[0mdecision_function_shape\u001b[0m\u001b[1;33m=\u001b[0m\u001b[1;34m'ovo'\u001b[0m\u001b[1;33m,\u001b[0m \u001b[0mprobability\u001b[0m \u001b[1;33m=\u001b[0m \u001b[1;32mTrue\u001b[0m\u001b[1;33m)\u001b[0m\u001b[1;33m\u001b[0m\u001b[0m\n\u001b[0m\u001b[0;32m      2\u001b[0m \u001b[0mmodel_svc\u001b[0m\u001b[1;33m.\u001b[0m\u001b[0mfit\u001b[0m\u001b[1;33m(\u001b[0m\u001b[0mX\u001b[0m\u001b[1;33m,\u001b[0m\u001b[0mY\u001b[0m\u001b[1;33m)\u001b[0m\u001b[1;33m\u001b[0m\u001b[0m\n",
      "\u001b[1;31mNameError\u001b[0m: name 'svm' is not defined"
     ]
    }
   ],
   "source": [
    "model_svc = svm.SVC(kernel='rbf',C=1,gamma=.004,decision_function_shape='ovo', probability = True)\n",
    "model_svc.fit(X,Y)"
   ]
  },
  {
   "cell_type": "markdown",
   "metadata": {},
   "source": [
    "## Prediction on X_test"
   ]
  },
  {
   "cell_type": "code",
   "execution_count": 81,
   "metadata": {},
   "outputs": [],
   "source": [
    "y_prob_svm = pd.DataFrame(model_svc.predict_proba(X_test))\n"
   ]
  },
  {
   "cell_type": "markdown",
   "metadata": {},
   "source": [
    "## Feature selection for XGBoost"
   ]
  },
  {
   "cell_type": "code",
   "execution_count": 82,
   "metadata": {},
   "outputs": [],
   "source": [
    "X = df_train.loc[:,['log(total_data)', 'log( web_browsing_total_bytes )',\n",
    "       'log( video_total_bytes )', 'log( social_ntwrking_bytes )',\n",
    "       'log( cloud_computing_total_bytes )', 'log( web_security_total_bytes )',\n",
    "       'log( gaming_total_bytes )', 'log( health_total_bytes )',\n",
    "       'log( communication_total_bytes )', 'log( file_sharing_total_bytes )',\n",
    "       'log( remote_access_total_bytes )', 'log( photo_sharing_total_bytes )',\n",
    "       'log( software_dwnld_total_bytes )', 'log( marketplace_total_bytes )',\n",
    "       'log( storage_services_total_bytes )', 'log( audio_total_bytes )',\n",
    "       'log( location_services_total_bytes )', 'log( presence_total_bytes )',\n",
    "       'log( advertisement_total_bytes )', 'log( system_total_bytes )',\n",
    "       'log( voip_total_bytes )', 'log( speedtest_total_bytes )',\n",
    "       'log( email_total_bytes )', 'log( weather_total_bytes )',\n",
    "       'log( media_total_bytes )', 'log( mms_total_bytes )',\n",
    "       'log( others_total_bytes )', 'log( subscriber_count )',\n",
    "       'LOG(total_data/subs_count)', 'log(minor)']]\n",
    "\n",
    "Y = df_train[\"Congestion_Type\"]\n",
    "\n",
    "X_test = df_test.loc[:,['log(total_data)', 'log( web_browsing_total_bytes )',\n",
    "       'log( video_total_bytes )', 'log( social_ntwrking_bytes )',\n",
    "       'log( cloud_computing_total_bytes )', 'log( web_security_total_bytes )',\n",
    "       'log( gaming_total_bytes )', 'log( health_total_bytes )',\n",
    "       'log( communication_total_bytes )', 'log( file_sharing_total_bytes )',\n",
    "       'log( remote_access_total_bytes )', 'log( photo_sharing_total_bytes )',\n",
    "       'log( software_dwnld_total_bytes )', 'log( marketplace_total_bytes )',\n",
    "       'log( storage_services_total_bytes )', 'log( audio_total_bytes )',\n",
    "       'log( location_services_total_bytes )', 'log( presence_total_bytes )',\n",
    "       'log( advertisement_total_bytes )', 'log( system_total_bytes )',\n",
    "       'log( voip_total_bytes )', 'log( speedtest_total_bytes )',\n",
    "       'log( email_total_bytes )', 'log( weather_total_bytes )',\n",
    "       'log( media_total_bytes )', 'log( mms_total_bytes )',\n",
    "       'log( others_total_bytes )', 'log( subscriber_count )',\n",
    "       'LOG(total_data/subs_count)', 'log(minor)']]"
   ]
  },
  {
   "cell_type": "code",
   "execution_count": 83,
   "metadata": {},
   "outputs": [
    {
     "data": {
      "text/plain": [
       "XGBClassifier(base_score=0.5, booster='gbtree', colsample_bylevel=1,\n",
       "       colsample_bytree=1, gamma=0, learning_rate=0.2, max_delta_step=0,\n",
       "       max_depth=1, min_child_weight=6, missing=None, n_estimators=3000,\n",
       "       n_jobs=1, nthread=None, objective='multi:softprob', random_state=0,\n",
       "       reg_alpha=0, reg_lambda=1.5, scale_pos_weight=1, seed=6372,\n",
       "       silent=True, subsample=0.7)"
      ]
     },
     "execution_count": 83,
     "metadata": {},
     "output_type": "execute_result"
    }
   ],
   "source": [
    "model_xgb = xgb.XGBClassifier(learning_rate=0.2, max_depth=1, n_estimators=3000, subsample = 0.7, seed = 6372,\n",
    "                        min_child_weight=6, reg_lambda = 1.5, objective = 'multi:softmax')\n",
    "model_xgb.fit(X,Y)"
   ]
  },
  {
   "cell_type": "markdown",
   "metadata": {},
   "source": [
    "## Prediction on X_test"
   ]
  },
  {
   "cell_type": "code",
   "execution_count": 84,
   "metadata": {},
   "outputs": [],
   "source": [
    "y_prob_xgb = pd.DataFrame(model_xgb.predict_proba(X_test))"
   ]
  },
  {
   "cell_type": "markdown",
   "metadata": {},
   "source": [
    "## Adding Probability of XGB and SVC"
   ]
  },
  {
   "cell_type": "code",
   "execution_count": 85,
   "metadata": {},
   "outputs": [],
   "source": [
    "combined_probability = np.array(y_prob_svm.add(y_prob_xgb, fill_value=0))"
   ]
  },
  {
   "cell_type": "code",
   "execution_count": 92,
   "metadata": {},
   "outputs": [],
   "source": [
    "pred = np.zeros_like(combined_probability)\n",
    "pred[np.arange(len(combined_probability)), combined_probability.argmax(1)] = 1"
   ]
  },
  {
   "cell_type": "code",
   "execution_count": 93,
   "metadata": {},
   "outputs": [],
   "source": [
    "pred = pd.DataFrame(pred, columns=['3G_BACKHAUL_CONGESTION', '4G_BACKHAUL_CONGESTION','4G_RAN_CONGESTION', 'NC'])\n",
    "Y_test = pd.DataFrame(df_test.loc[:, \"cell_name\"])\n",
    "Y_test.loc[pred[\"3G_BACKHAUL_CONGESTION\"] == 1 , \"Congestion_Type\"] = \"3G_BACKHAUL_CONGESTION\"\n",
    "Y_test.loc[pred[\"4G_BACKHAUL_CONGESTION\"] == 1 , \"Congestion_Type\"] = \"4G_BACKHAUL_CONGESTION\"\n",
    "Y_test.loc[pred[\"4G_RAN_CONGESTION\"] == 1 , \"Congestion_Type\"] = \"4G_RAN_CONGESTION\"\n",
    "Y_test.loc[pred[\"NC\"] == 1 , \"Congestion_Type\"] = \"NC\""
   ]
  },
  {
   "cell_type": "markdown",
   "metadata": {},
   "source": [
    "## Get csv file of the final prediction"
   ]
  },
  {
   "cell_type": "code",
   "execution_count": 95,
   "metadata": {},
   "outputs": [],
   "source": [
    "Y_test.to_csv(\"submission.csv\", index = False)"
   ]
  }
 ],
 "metadata": {
  "kernelspec": {
   "display_name": "Python 3",
   "language": "python",
   "name": "python3"
  },
  "language_info": {
   "codemirror_mode": {
    "name": "ipython",
    "version": 3
   },
   "file_extension": ".py",
   "mimetype": "text/x-python",
   "name": "python",
   "nbconvert_exporter": "python",
   "pygments_lexer": "ipython3",
   "version": "3.6.5"
  }
 },
 "nbformat": 4,
 "nbformat_minor": 2
}
